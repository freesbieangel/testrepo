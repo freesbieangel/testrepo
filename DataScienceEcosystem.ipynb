{
 "cells": [
  {
   "cell_type": "markdown",
   "id": "a94ee75d-83a8-4b74-a3ac-5a8cae43fc7b",
   "metadata": {},
   "source": [
    "## Data Science Tools and Ecosystem"
   ]
  },
  {
   "cell_type": "markdown",
   "id": "57a5d166-d4b1-495a-a03a-24b88a7cc61b",
   "metadata": {},
   "source": [
    "In this notebook, Data Science Tools and Ecosystem are summarized."
   ]
  },
  {
   "cell_type": "markdown",
   "id": "8a702823-5f09-46be-82ac-516c6047ab58",
   "metadata": {},
   "source": [
    "Some of the popular languages that Data Scientists use are:\n",
    "1. Python\n",
    "2. R\n",
    "3. Java\n",
    "4. C++\n",
    "5. Scala"
   ]
  },
  {
   "cell_type": "markdown",
   "id": "7c8e38dd-b62f-4e75-8cd3-8a583756ff98",
   "metadata": {},
   "source": [
    "Some of the commonly used libraries used by Data Scientists include: <br>\n",
    "    1. NumPy <br>\n",
    "    2. Mathplot <br>\n",
    "    3. Ggplot <br>\n",
    "    4. Scikitlearn <br>\n",
    "    5. R library <br>\n",
    "    6. Libraries of other languages <br>"
   ]
  },
  {
   "cell_type": "markdown",
   "id": "26fc7223-dce1-4742-baa4-84dabaad52f6",
   "metadata": {},
   "source": [
    "<table>\n",
    "  <tr>\n",
    "    <th>Data Science tools</th>\n",
    "  </tr>\n",
    "  <tr><td>Rstudio</td></tr>\n",
    "  <tr><td>Apache Spark</td></tr>\n",
    "  <tr><td>Python</td></tr>\n",
    "</table>"
   ]
  },
  {
   "cell_type": "markdown",
   "id": "c72a036b-4cd0-4b36-b645-9f3adc9745fa",
   "metadata": {},
   "source": [
    "### Below are a few examples of evaluating arithmetic expressions in Python"
   ]
  },
  {
   "cell_type": "markdown",
   "id": "e7191aa0-2f24-43c2-9398-85e1aada3f22",
   "metadata": {},
   "source": [
    "This a simple arithmetic expression to mutiply then add integers"
   ]
  },
  {
   "cell_type": "code",
   "execution_count": 22,
   "id": "c5307616-a60f-435e-8445-ec5f312f6fef",
   "metadata": {},
   "outputs": [
    {
     "data": {
      "text/plain": [
       "17"
      ]
     },
     "execution_count": 22,
     "metadata": {},
     "output_type": "execute_result"
    }
   ],
   "source": [
    "(3*4)+5"
   ]
  },
  {
   "cell_type": "markdown",
   "id": "17c5646a-7859-4370-b379-0920835e8b9b",
   "metadata": {},
   "source": [
    "This will convert 200 minutes to hours by diving by 60"
   ]
  },
  {
   "cell_type": "code",
   "execution_count": 32,
   "id": "57cc5707-96db-4b0b-9ad2-690b4ed000c0",
   "metadata": {},
   "outputs": [
    {
     "data": {
      "text/plain": [
       "3.3333333333333335"
      ]
     },
     "execution_count": 32,
     "metadata": {},
     "output_type": "execute_result"
    }
   ],
   "source": [
    "200/60"
   ]
  },
  {
   "cell_type": "markdown",
   "id": "54b2f743-3a27-492c-a001-712c83a5966b",
   "metadata": {},
   "source": [
    "**Objectives:** <br>\n",
    "List popular languages for Data Science <br>\n",
    "Identify Data Science tools <br>\n",
    "Familiarize with Data Science libraries <br>"
   ]
  },
  {
   "cell_type": "markdown",
   "id": "63522bc2-4d7f-4341-9730-1fadbace1a31",
   "metadata": {},
   "source": [
    "## Author\n",
    "Marie"
   ]
  },
  {
   "cell_type": "code",
   "execution_count": null,
   "id": "f97f2c10-5b54-4cde-9837-4d3930b175ac",
   "metadata": {},
   "outputs": [],
   "source": []
  }
 ],
 "metadata": {
  "kernelspec": {
   "display_name": "Python",
   "language": "python",
   "name": "conda-env-python-py"
  },
  "language_info": {
   "codemirror_mode": {
    "name": "ipython",
    "version": 3
   },
   "file_extension": ".py",
   "mimetype": "text/x-python",
   "name": "python",
   "nbconvert_exporter": "python",
   "pygments_lexer": "ipython3",
   "version": "3.7.12"
  }
 },
 "nbformat": 4,
 "nbformat_minor": 5
}
